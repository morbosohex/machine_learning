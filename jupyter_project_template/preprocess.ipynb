{
 "cells": [
  {
   "cell_type": "code",
   "execution_count": 4,
   "metadata": {},
   "outputs": [],
   "source": [
    "# BASIC SETUP\n",
    "SMALL_DATA_MODE = True\n",
    "if SMALL_DATA_MODE:\n",
    "    DATA_FILE = \"path/to/smallData.csv\"\n",
    "else:\n",
    "    DATA_FILE = \"path/to/originalData.csv\""
   ]
  },
  {
   "cell_type": "code",
   "execution_count": 2,
   "metadata": {},
   "outputs": [],
   "source": [
    "# PARAMETER\n",
    "#-------------\n",
    "# check if IS_MASTER exists, this variable will only exist if it's being called by MASTER notebook.\n",
    "# if it does not exist, set it to False\n",
    "try: IS_MASTER\n",
    "except: IS_MASTER = False\n",
    "# The code below will only run if it's NOT being called from MASTER notebook\n",
    "if IS_MASTER:\n",
    "    DATA_DIR = './data/temp/' # \n",
    "    RAW_FILE = f'/path/to/smallData.csv' # use \"small data\" here\n",
    "    PROCESSED_FILE = f'{DATA_DIR}processed.pkl' # always use pickle for fast I/O!\n",
    "    OTHER_PREPROCESS_PARAMETER = ... # e.g. batch size, sliding window size, etc"
   ]
  },
  {
   "cell_type": "code",
   "execution_count": null,
   "metadata": {},
   "outputs": [],
   "source": [
    "# DEVELOPMENT\n",
    "#-------------\n",
    "pass"
   ]
  },
  {
   "cell_type": "code",
   "execution_count": null,
   "metadata": {},
   "outputs": [],
   "source": [
    "# STORE RESUlT\n",
    "#-------------\n",
    "import pickle\n",
    "with open(PROCESSED_FILE, 'wb') as f:\n",
    "    pickle.dump(python_object, f)\n",
    "# Or using pandas\n",
    "df.to_pickle(PROCESSED_FILE)"
   ]
  },
  {
   "cell_type": "code",
   "execution_count": null,
   "metadata": {},
   "outputs": [],
   "source": []
  }
 ],
 "metadata": {
  "kernelspec": {
   "display_name": "Python 3",
   "language": "python",
   "name": "python3"
  },
  "language_info": {
   "codemirror_mode": {
    "name": "ipython",
    "version": 3
   },
   "file_extension": ".py",
   "mimetype": "text/x-python",
   "name": "python",
   "nbconvert_exporter": "python",
   "pygments_lexer": "ipython3",
   "version": "3.7.4"
  }
 },
 "nbformat": 4,
 "nbformat_minor": 2
}
